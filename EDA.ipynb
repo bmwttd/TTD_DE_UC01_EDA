{
  "nbformat": 4,
  "nbformat_minor": 0,
  "metadata": {
    "colab": {
      "provenance": []
    },
    "kernelspec": {
      "name": "python3",
      "display_name": "Python 3"
    },
    "language_info": {
      "name": "python"
    }
  },
  "cells": [
    {
      "cell_type": "markdown",
      "source": [
        "# Data Engineer Assessment\n",
        "## UC01: TTD_DE_UC01_EDA: Perform `Exploratory Data Analysis (EDA)` on provided CSV data"
      ],
      "metadata": {
        "id": "EHdmmBKSfU7m"
      }
    },
    {
      "cell_type": "markdown",
      "source": [
        "## Summary\n",
        "This assessments evaluate the capabilities of the candidate in solving data engineering use cases. The candidate is required to solve the below assessment questions using a Jupyter notebook and post the solutions in the notebook in the assessment section.  \n",
        "\n",
        "Each assessment is structured as a collection of one or more scenarios that need to be addressed by the data engineer.\n",
        "\n",
        "\n",
        "* __Problem Statement__ - Business users have asked the data engineers to assist with exploratory data analysis to enable business make informed decisions.\n",
        "* __Description__ - Business would like to perform `Exploratory Data Analysis` on the dataset as part of reporting and also to prepare data for Machine Learning purposes.  \n",
        "The business user has recently joined the organization and is unfamiliar with the data and has asked the data engineer to just assist with the review of the data so that they generate reports together.\n",
        "\n",
        "The business user would first like to explore the data and see if there are any patterns in the data that can be used for reporting.\n",
        "\n",
        "\n",
        "## Code Complexity\n",
        "- Low / Medium\n",
        "\n",
        "\n",
        "## `Diagram - Also refer PDF in folder`\n",
        "\n",
        "![Exploratory Data Analysis](./TTD_UC01_EDA.png \"Exploratory Data\")\n",
        "\n"
      ],
      "metadata": {
        "id": "I5CzyDpRgtJG"
      }
    },
    {
      "cell_type": "markdown",
      "source": [
        "## Datasets:\n",
        "\n",
        "`File Location`: Refer to the attached `data` folder for information\n",
        "\n",
        "* Vehicles (vehicles.csv)  at the plants (plants.csv) are built to order (orders.csv) placed - order_number\n",
        "* Vehicles are manufactured at different Company plants (plants.csv)-  (plant_code_id)\n",
        "* Customer (customers.csv) provides reviews(welcome_call.csv) 60 to 80 days after the vehicles are delivered(vin)\n",
        "* Orders (orders.csv) are logged by sales_rep_number at various BMW dealerships.\n",
        "* Sales (sales_rep.csv) representatives are linked to dealership (dealers.csv) and have dealership names\n",
        "\n",
        "\n"
      ],
      "metadata": {
        "id": "EvLjeRgChxtp"
      }
    },
    {
      "cell_type": "markdown",
      "source": [
        "## Perform the following joins:\n",
        "\n",
        "* Link all the data based on the statements made above to create a larger dataset that answers the below questions.\n",
        "* Identify any duplicates in the data and perform cleanup of the duplicates. Just drop the duplicates columns.\n",
        "* The Dataset must contain vehicles linked to the order, sentiments, sales people, plants\n",
        "* Provide the name of the sales person (first_name, last_name and sales_number the dealership)\n",
        "\n"
      ],
      "metadata": {
        "id": "ZuTGDk3Rh2Bx"
      }
    },
    {
      "cell_type": "markdown",
      "source": [
        "## Questions: `Exploratory Data Analysis - Provide graphs for options below and document your observations in markdown. `\n",
        "\n",
        "1. Perform `Exploratory data analysis` and provide insights into the data.\n",
        "2.  Provide the distribution by brand, model, iso_country.\n",
        "3. Provide the percentage of customers that have purchased more than 1 car.\n",
        "4.  Provide the distribution of the vehicles manufactured by the plants and provide information brand, model  etc.\n",
        "5.  Provide the top sales peoples per dealership - 10 top sales people\n",
        "6.  Indicate the total sales per dealership.\n",
        "7.  Get the models of the cars that had the most positive reviews (reviews greater than 3.5)\n",
        "8.  Provide a distribution of the vehicles by different status.\n",
        "9.  List all the dealerships that have sold the Rolls-Royce brand.\n",
        "\n",
        "\n"
      ],
      "metadata": {
        "id": "8fJaKs5qiOD1"
      }
    },
    {
      "cell_type": "markdown",
      "source": [
        "## Libraries or Options used\n",
        "* Jupyter Notebook - Install and run locally on your laptop or device.\n",
        "* PySpark, Pandas and matplot lib or similar plotting libraries.\n",
        "* Other Python libraries required for Exploratory Data Analysis\n",
        "\n"
      ],
      "metadata": {
        "id": "wg31xO4Tie_t"
      }
    },
    {
      "cell_type": "markdown",
      "source": [
        "## `Acceptance Criteria`\n",
        "The following acceptance criteria must be met:\n",
        "\n",
        "1. Perform Exploratory data Analysis and present your results as observations.\n",
        "2. Python Graph libraries must be used to plot graphs to support your findings.\n",
        "3. Comment your notebook file with markdown indicating observations: and write statements to indicate your observations.\n",
        "4. Perform Analysis fo the Data using Spark or Pandas"
      ],
      "metadata": {
        "id": "MHg-Bj6rinNj"
      }
    },
    {
      "cell_type": "markdown",
      "source": [
        "# Implementation\n",
        "\n",
        "Provide all the implementation steps in the sections that follow. Ensure that you provide detailed explanations of the approach.\n"
      ],
      "metadata": {
        "id": "caDAkcnGisWu"
      }
    },
    {
      "cell_type": "markdown",
      "source": [
        "### Import the libraries that you need for EDA"
      ],
      "metadata": {
        "id": "_v2Rt81WjBE-"
      }
    },
    {
      "cell_type": "code",
      "source": [
        "# Import any relevant libraries\n",
        "import os\n",
        "import re\n",
        "\n",
        "import pandas as pd\n",
        "# Import other EDA libraries that you need below\n",
        "\n"
      ],
      "metadata": {
        "id": "0_mfc2MJi_do"
      },
      "execution_count": null,
      "outputs": []
    },
    {
      "cell_type": "markdown",
      "source": [
        "#### List of expected dataframes to be loaded\n",
        "\n",
        "\n",
        "  * Vehicles (vehicles.csv) at the plants (plants.csv) are built to order (orders.csv) placed - order_number\n",
        "  * Vehicles are manufactured at different Company plants (plants.csv)- (plant_code_id)\n",
        "  * Customer (customers.csv) provides reviews(welcome_call.csv) 60 to 80 days after the vehicles are delivered(vin)\n",
        "  * Orders (orders.csv) are logged by sales_rep_number at various BMW dealerships.\n",
        "  * Sales (sales_rep.csv) representatives are linked to dealership (dealers.csv) and have dealership names\n",
        "\n"
      ],
      "metadata": {
        "id": "X3tZe7SHlNlF"
      }
    },
    {
      "cell_type": "markdown",
      "source": [
        "### Load the data from the data folder into the data frame."
      ],
      "metadata": {
        "id": "nTC5CpH_jWSN"
      }
    },
    {
      "cell_type": "code",
      "execution_count": null,
      "metadata": {
        "id": "B8Cw2-CmfTn2"
      },
      "outputs": [],
      "source": [
        "# Write your code below to load the relevant data into a data frame\n",
        "# Perform any Clean up operations if required. remove duplicates etc."
      ]
    },
    {
      "cell_type": "markdown",
      "source": [
        "#### Question: Did you need to perform any clean up on the dataframes. If yes. What cleanup operations did you perform\n",
        "\n",
        "#### *Answer*: Replace with your response\n",
        "\n"
      ],
      "metadata": {
        "id": "uHeEOIeLkDfA"
      }
    },
    {
      "cell_type": "markdown",
      "source": [
        "### Provide some statistical information about the data you just loaded\n"
      ],
      "metadata": {
        "id": "gU_MuP2KkeRP"
      }
    },
    {
      "cell_type": "code",
      "source": [
        "# Write code to provide statistical information about each dataframe that you just loaded.\n",
        "\n",
        "# Write your code below"
      ],
      "metadata": {
        "id": "b4xFBsWpko8O"
      },
      "execution_count": null,
      "outputs": []
    },
    {
      "cell_type": "markdown",
      "source": [
        "### Perform all the relevant join operations between the datasets.\n",
        "\n",
        "Hint! - Relationship between the datasets is mentioned above\n"
      ],
      "metadata": {
        "id": "R5WHnAOSjrsu"
      }
    },
    {
      "cell_type": "code",
      "source": [
        "# Perform the queries to perform the relevant dataframe join operations."
      ],
      "metadata": {
        "id": "0C9ukPTuj4TV"
      },
      "execution_count": null,
      "outputs": []
    },
    {
      "cell_type": "markdown",
      "source": [
        "#### Question: Did you perform any joins on the datasets. If yes, what joins. Also what information was available after the joins were performed.\n",
        "\n",
        "#### *Answer*: Replace with your response"
      ],
      "metadata": {
        "id": "_XXOXAl0kX7y"
      }
    },
    {
      "cell_type": "markdown",
      "source": [
        "### Perform All the standard Exploratory Data Analysis in the sections that follow to provide information to the Business users about the data. Report your findings in the form of Graphs or Response statements"
      ],
      "metadata": {
        "id": "7aDRWfnJl_fZ"
      }
    },
    {
      "cell_type": "code",
      "source": [
        "# Example: Write down the distribution of Vehicles by plant and iso_country and plot a bar graph\n",
        "\n"
      ],
      "metadata": {
        "id": "6E-tNWhomPXn"
      },
      "execution_count": null,
      "outputs": []
    },
    {
      "cell_type": "code",
      "source": [
        "# Write your own exploratory data analysis on the ingested dataframe and report on the different findings.\n",
        "# also provide visual aids for each finding."
      ],
      "metadata": {
        "id": "OdFMhJHUmZXf"
      },
      "execution_count": null,
      "outputs": []
    },
    {
      "cell_type": "code",
      "source": [
        "# Use the matplotlib libraries or other graphing libraries and create charts to support your findings\n",
        "import matplotlib"
      ],
      "metadata": {
        "id": "5Lb84b631w_H"
      },
      "execution_count": null,
      "outputs": []
    },
    {
      "cell_type": "markdown",
      "source": [
        "### Report all your Findings:\n",
        "\n",
        "Report your findings in bullet points.\n",
        "Example: For illustration purpose only - replace below with your own findings and support with Evidence\n",
        "1. The US plant manufactured the most number of vehicles in 2023 etc. There were 30,000 vehicles manufactured at the plant etc."
      ],
      "metadata": {
        "id": "Qhk3rwcsmt3H"
      }
    },
    {
      "cell_type": "markdown",
      "source": [
        "## `Acceptance Criteria`\n",
        "The following acceptance criteria must be met:\n",
        "\n",
        "1. Perform Exploratory data Analysis and present your results as observations.\n",
        "2. Python Graph libraries must be used to plot graphs to support your findings.\n",
        "3. Comment your notebook file with markdown indicating observations: and write statements to indicate your observations.\n",
        "4. Perform Analysis fo the Data using Spark or Pandas"
      ],
      "metadata": {
        "id": "Bb1_0AKGmlO0"
      }
    }
  ]
}